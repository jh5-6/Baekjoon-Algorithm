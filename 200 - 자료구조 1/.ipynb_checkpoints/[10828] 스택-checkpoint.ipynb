{
 "cells": [
  {
   "cell_type": "markdown",
   "id": "5c2039e6",
   "metadata": {},
   "source": [
    "# [스택]"
   ]
  },
  {
   "cell_type": "markdown",
   "id": "28d88201",
   "metadata": {},
   "source": [
    "\n"
   ]
  },
  {
   "cell_type": "markdown",
   "id": "9860d1aa",
   "metadata": {},
   "source": [
    "정수를 저장하는 스택을 구현한 다음, 입력으로 주어지는 명령을 처리하는 프로그램을 작성하시오.\n",
    "\n",
    "명령은 총 다섯 가지이다.\n",
    "\n",
    "- push X: 정수 X를 스택에 넣는 연산이다.\n",
    "- pop: 스택에서 가장 위에 있는 정수를 빼고, 그 수를 출력한다. 만약 스택에 들어있는 정수가 없는 경우에는 -1을 출력한다.\n",
    "- size: 스택에 들어있는 정수의 개수를 출력한다.\n",
    "- empty: 스택이 비어있으면 1, 아니면 0을 출력한다.\n",
    "- top: 스택의 가장 위에 있는 정수를 출력한다. 만약 스택에 들어있는 정수가 없는 경우에는 -1을 출력한다."
   ]
  },
  {
   "cell_type": "markdown",
   "id": "59a2d6d4",
   "metadata": {},
   "source": [
    "[입력] \n",
    "    \n",
    "    첫째 줄에 주어지는 명령의 수 N (1 ≤ N ≤ 10,000)이 주어진다. 둘째 줄부터 N개의 줄에는 명령이 하나씩 주어진다. 주어지는 정수는 1보다 크거나 같고, 100,000보다 작거나 같다. 문제에 나와있지 않은 명령이 주어지는 경우는 없다.\n",
    "    \n",
    "    \n",
    "[출력] \n",
    "\n",
    "    출력해야하는 명령이 주어질 때마다, 한 줄에 하나씩 출력한다."
   ]
  },
  {
   "cell_type": "markdown",
   "id": "725a41e5",
   "metadata": {},
   "source": [
    "\n"
   ]
  },
  {
   "cell_type": "markdown",
   "id": "882c6305",
   "metadata": {},
   "source": [
    "< TIP >\n",
    "\n",
    "- sys.stdin.readline() \n",
    "    \n",
    "    input() 사용하는 경우 시간 초과 "
   ]
  },
  {
   "cell_type": "markdown",
   "id": "a0b14e71",
   "metadata": {},
   "source": [
    "\n"
   ]
  },
  {
   "cell_type": "markdown",
   "id": "cbf6bc3e",
   "metadata": {},
   "source": [
    "\n"
   ]
  },
  {
   "cell_type": "markdown",
   "id": "122ab931",
   "metadata": {},
   "source": [
    "Solution"
   ]
  },
  {
   "cell_type": "code",
   "execution_count": null,
   "id": "3cbfc7c0",
   "metadata": {},
   "outputs": [],
   "source": [
    "import sys\n",
    "\n",
    "N = int(sys.stdin.readline())\n",
    "answer = []\n",
    "\n",
    "for _ in range(N):\n",
    "    command = sys.stdin.readline().split()\n",
    "    \n",
    "    if command[0] == \"push\": \n",
    "        answer.append(command[1])\n",
    "        \n",
    "    elif command[0] == \"top\": \n",
    "        if answer:\n",
    "            print(answer[-1])\n",
    "        else:\n",
    "            print(-1)\n",
    "        \n",
    "    elif command[0] == \"size\": \n",
    "         print(len(answer))\n",
    "        \n",
    "    elif command[0] == \"empty\": \n",
    "        if answer:\n",
    "            print(0)\n",
    "        else:\n",
    "            print(1)\n",
    "        \n",
    "    elif command[0] == \"pop\": \n",
    "        if answer:\n",
    "            print(answer.pop())\n",
    "        else:\n",
    "            print(-1)\n",
    "        "
   ]
  }
 ],
 "metadata": {
  "kernelspec": {
   "display_name": "Python 3 (ipykernel)",
   "language": "python",
   "name": "python3"
  },
  "language_info": {
   "codemirror_mode": {
    "name": "ipython",
    "version": 3
   },
   "file_extension": ".py",
   "mimetype": "text/x-python",
   "name": "python",
   "nbconvert_exporter": "python",
   "pygments_lexer": "ipython3",
   "version": "3.9.7"
  }
 },
 "nbformat": 4,
 "nbformat_minor": 5
}
