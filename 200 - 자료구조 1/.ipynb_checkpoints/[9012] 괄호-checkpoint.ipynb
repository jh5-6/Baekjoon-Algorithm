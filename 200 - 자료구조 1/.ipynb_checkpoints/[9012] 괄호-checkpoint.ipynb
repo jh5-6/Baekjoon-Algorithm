{
 "cells": [
  {
   "cell_type": "markdown",
   "id": "bcd76100",
   "metadata": {},
   "source": [
    "# [괄호]"
   ]
  },
  {
   "cell_type": "markdown",
   "id": "728bbc53",
   "metadata": {},
   "source": [
    "\n"
   ]
  },
  {
   "cell_type": "markdown",
   "id": "50dc5c23",
   "metadata": {},
   "source": [
    "괄호 문자열(Parenthesis String, PS)은 두 개의 괄호 기호인 ‘(’ 와 ‘)’ 만으로 구성되어 있는 문자열이다. \n",
    "\n",
    "그 중에서 괄호의 모양이 바르게 구성된 문자열을 올바른 괄호 문자열(Valid PS, VPS)이라고 부른다. \n",
    "\n",
    "한 쌍의 괄호 기호로 된 “( )” 문자열은 기본 VPS 이라고 부른다. \n",
    "\n",
    "만일 x 가 VPS 라면 이것을 하나의 괄호에 넣은 새로운 문자열 “(x)”도 VPS 가 된다. \n",
    "\n",
    "그리고 두 VPS x 와 y를 접합(concatenation)시킨 새로운 문자열 xy도 VPS 가 된다. \n",
    "\n",
    "예를 들어 “(())()”와 “((()))” 는 VPS 이지만 “(()(”, “(())()))” , 그리고 “(()” 는 모두 VPS 가 아닌 문자열이다. \n",
    "\n",
    "여러분은 입력으로 주어진 괄호 문자열이 VPS 인지 아닌지를 판단해서 그 결과를 YES 와 NO 로 나타내어야 한다. "
   ]
  },
  {
   "cell_type": "markdown",
   "id": "6ed84587",
   "metadata": {},
   "source": [
    "\n",
    "\n",
    "\n",
    "\n",
    "\n",
    "\n",
    "[입력] \n",
    "\n",
    "    입력 데이터는 표준 입력을 사용한다. 입력은 T개의 테스트 데이터로 주어진다. 입력의 첫 번째 줄에는 입력 데이터의 수를 나타내는 정수 T가 주어진다. 각 테스트 데이터의 첫째 줄에는 괄호 문자열이 한 줄에 주어진다. 하나의 괄호 문자열의 길이는 2 이상 50 이하이다. \n",
    "\n",
    "\n",
    "\n",
    "\n",
    "[출력] \n",
    "\n",
    "    출력은 표준 출력을 사용한다. 만일 입력 괄호 문자열이 올바른 괄호 문자열(VPS)이면 “YES”, 아니면 “NO”를 한 줄에 하나씩 차례대로 출력해야 한다. "
   ]
  },
  {
   "cell_type": "markdown",
   "id": "dbbe4b21",
   "metadata": {},
   "source": [
    "\n"
   ]
  },
  {
   "cell_type": "markdown",
   "id": "0119bbed",
   "metadata": {},
   "source": [
    "\n"
   ]
  },
  {
   "cell_type": "markdown",
   "id": "4372426b",
   "metadata": {},
   "source": [
    "[Solution] Stack 활용한 풀이"
   ]
  },
  {
   "cell_type": "code",
   "execution_count": null,
   "id": "088dd29c",
   "metadata": {},
   "outputs": [],
   "source": [
    "T = int(input())\n",
    "\n",
    "for _ in range(T):\n",
    "    cnt = 0\n",
    "    ps = list(input())\n",
    "    \n",
    "    for p in ps:  \n",
    "        if p == '(':\n",
    "            cnt += 1\n",
    "        elif p == ')':\n",
    "            cnt -= 1\n",
    "        if cnt < 0 :\n",
    "            print(\"NO\")\n",
    "            break\n",
    "\n",
    "    if cnt > 0:\n",
    "        print(\"NO\")\n",
    "    elif cnt == 0:\n",
    "        print(\"YES\")"
   ]
  }
 ],
 "metadata": {
  "kernelspec": {
   "display_name": "Python 3 (ipykernel)",
   "language": "python",
   "name": "python3"
  },
  "language_info": {
   "codemirror_mode": {
    "name": "ipython",
    "version": 3
   },
   "file_extension": ".py",
   "mimetype": "text/x-python",
   "name": "python",
   "nbconvert_exporter": "python",
   "pygments_lexer": "ipython3",
   "version": "3.9.7"
  }
 },
 "nbformat": 4,
 "nbformat_minor": 5
}
