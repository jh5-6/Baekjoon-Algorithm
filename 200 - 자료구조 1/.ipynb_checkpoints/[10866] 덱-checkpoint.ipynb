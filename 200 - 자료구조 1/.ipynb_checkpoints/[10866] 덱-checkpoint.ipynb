{
 "cells": [
  {
   "cell_type": "markdown",
   "id": "b1371fb3",
   "metadata": {},
   "source": [
    "# [덱]"
   ]
  },
  {
   "cell_type": "markdown",
   "id": "a8571da9",
   "metadata": {},
   "source": [
    "\n"
   ]
  },
  {
   "cell_type": "markdown",
   "id": "b4363486",
   "metadata": {},
   "source": [
    "정수를 저장하는 덱(Deque)를 구현한 다음, 입력으로 주어지는 명령을 처리하는 프로그램을 작성하시오.\n",
    "\n",
    "명령은 총 여덟 가지이다.\n",
    "\n",
    "    - push_front X: 정수 X를 덱의 앞에 넣는다.\n",
    "    - push_back X: 정수 X를 덱의 뒤에 넣는다.\n",
    "    - pop_front: 덱의 가장 앞에 있는 수를 빼고, 그 수를 출력한다. 만약, 덱에 들어있는 정수가 없는 경우에는 -1을 출력한다.\n",
    "    - pop_back: 덱의 가장 뒤에 있는 수를 빼고, 그 수를 출력한다. 만약, 덱에 들어있는 정수가 없는 경우에는 -1을 출력한다.\n",
    "    - size: 덱에 들어있는 정수의 개수를 출력한다.\n",
    "    - empty: 덱이 비어있으면 1을, 아니면 0을 출력한다.\n",
    "    - front: 덱의 가장 앞에 있는 정수를 출력한다. 만약 덱에 들어있는 정수가 없는 경우에는 -1을 출력한다.\n",
    "    - back: 덱의 가장 뒤에 있는 정수를 출력한다. 만약 덱에 들어있는 정수가 없는 경우에는 -1을 출력한다."
   ]
  },
  {
   "cell_type": "markdown",
   "id": "ad41dc7c",
   "metadata": {},
   "source": [
    "\n"
   ]
  },
  {
   "cell_type": "markdown",
   "id": "7afc9b9d",
   "metadata": {},
   "source": [
    "[입력]\n",
    "\n",
    "첫째 줄에 주어지는 명령의 수 N (1 ≤ N ≤ 10,000)이 주어진다. \n",
    "\n",
    "둘째 줄부터 N개의 줄에는 명령이 하나씩 주어진다. \n",
    "\n",
    "주어지는 정수는 1보다 크거나 같고, 100,000보다 작거나 같다. \n",
    "\n",
    "문제에 나와있지 않은 명령이 주어지는 경우는 없다."
   ]
  },
  {
   "cell_type": "markdown",
   "id": "b7b8f62b",
   "metadata": {},
   "source": [
    "\n"
   ]
  },
  {
   "cell_type": "markdown",
   "id": "bedc90d0",
   "metadata": {},
   "source": [
    "[출력]\n",
    "\n",
    "출력해야하는 명령이 주어질 때마다, 한 줄에 하나씩 출력한다."
   ]
  },
  {
   "cell_type": "markdown",
   "id": "c5b9d5b0",
   "metadata": {},
   "source": [
    "\n"
   ]
  },
  {
   "cell_type": "markdown",
   "id": "bd9c0a4c",
   "metadata": {},
   "source": [
    "\n"
   ]
  },
  {
   "cell_type": "markdown",
   "id": "5e10a6c1",
   "metadata": {},
   "source": [
    "Solution "
   ]
  },
  {
   "cell_type": "code",
   "execution_count": 6,
   "id": "b4158221",
   "metadata": {},
   "outputs": [
    {
     "name": "stdout",
     "output_type": "stream",
     "text": [
      "15\n",
      "push_back 2\n",
      "push_front 1\n",
      "front\n",
      "1\n",
      "back\n",
      "2\n",
      "size\n",
      "2\n",
      "empty\n",
      "0\n",
      "pop_front\n",
      "1\n",
      "pop_back\n",
      "2\n",
      "pop_front\n",
      "-1\n",
      "size\n",
      "0\n",
      "empty\n",
      "1\n",
      "pop_back\n",
      "-1\n",
      "push_front 3\n",
      "empty\n",
      "0\n",
      "front\n",
      "3\n"
     ]
    }
   ],
   "source": [
    "import sys \n",
    "from collections import deque\n",
    "\n",
    "# N = int(sys.stdin.readline())\n",
    "N = int(input())\n",
    "Deque = deque()\n",
    "\n",
    "for _ in range(N):\n",
    "    \n",
    "  # command = sys.stdin.readline().split() \n",
    "    command = input().split(\" \")\n",
    "    \n",
    "    if command[0] == \"push_front\":\n",
    "        Deque.appendleft(command[1])\n",
    "        \n",
    "    elif command[0] == \"push_back\":\n",
    "        Deque.append(command[1])\n",
    "    \n",
    "    elif command[0] == \"pop_front\":\n",
    "        print(Deque.popleft()) if Deque else print(-1)\n",
    "    \n",
    "    elif command[0] == \"pop_back\":\n",
    "        print(Deque.pop()) if Deque else print(-1)\n",
    "\n",
    "    elif command[0] == \"size\":\n",
    "        print(len(Deque))\n",
    "        \n",
    "    elif command[0] == \"empty\":\n",
    "        print(0) if Deque else print(1)\n",
    "        \n",
    "    elif command[0] == \"front\":\n",
    "        print(Deque[0]) if Deque else print(-1)\n",
    "        \n",
    "    elif command[0] == \"back\":\n",
    "        print(Deque[-1]) if Deque else print(-1)\n"
   ]
  }
 ],
 "metadata": {
  "kernelspec": {
   "display_name": "Python 3 (ipykernel)",
   "language": "python",
   "name": "python3"
  },
  "language_info": {
   "codemirror_mode": {
    "name": "ipython",
    "version": 3
   },
   "file_extension": ".py",
   "mimetype": "text/x-python",
   "name": "python",
   "nbconvert_exporter": "python",
   "pygments_lexer": "ipython3",
   "version": "3.9.7"
  }
 },
 "nbformat": 4,
 "nbformat_minor": 5
}
