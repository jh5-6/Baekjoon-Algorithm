{
 "cells": [
  {
   "cell_type": "markdown",
   "id": "205d55fa",
   "metadata": {},
   "source": [
    "# [단어 뒤집기]"
   ]
  },
  {
   "cell_type": "markdown",
   "id": "90567bb2",
   "metadata": {},
   "source": [
    "\n"
   ]
  },
  {
   "cell_type": "markdown",
   "id": "9ca89416",
   "metadata": {},
   "source": [
    "문장이 주어졌을 때, 단어를 모두 뒤집어서 출력하는 프로그램을 작성하시오. 단, 단어의 순서는 바꿀 수 없다. 단어는 영어 알파벳으로만 이루어져 있다.\n",
    "\n"
   ]
  },
  {
   "cell_type": "markdown",
   "id": "55e3d79b",
   "metadata": {},
   "source": [
    "\n",
    "[입력]\n",
    "\n",
    "    첫째 줄에 테스트 케이스의 개수 T가 주어진다. 각 테스트 케이스는 한 줄로 이루어져 있으며, 문장이 하나 주어진다. 단어의 길이는 최대 20, 문장의 길이는 최대 1000이다. 단어와 단어 사이에는 공백이 하나 있다.\n",
    "\n",
    "\n",
    "\n",
    "\n",
    "\n",
    "[출력]\n",
    "\n",
    "    각 테스트 케이스에 대해서, 입력으로 주어진 문장의 단어를 모두 뒤집어 출력한다."
   ]
  },
  {
   "cell_type": "markdown",
   "id": "9ba5e006",
   "metadata": {},
   "source": [
    "\n"
   ]
  },
  {
   "cell_type": "markdown",
   "id": "603e0078",
   "metadata": {},
   "source": [
    "< TIP >\n",
    "\n",
    "- 슬라이싱 : 연속적인 객체들에 범위를 지정해 해당 범위의 객체를 가져오는 방법 \n",
    "\n",
    "  => arr[start: end: step] \n",
    "        \n",
    "        start: 시작 인덱스 \n",
    "        end: 종료 인덱스 (종료 인덱스의 원소 포함되지 않음)\n",
    "        step: 슬라이싱 간격 "
   ]
  },
  {
   "cell_type": "markdown",
   "id": "72c3a9bb",
   "metadata": {},
   "source": [
    "\n"
   ]
  },
  {
   "cell_type": "markdown",
   "id": "a0c25338",
   "metadata": {},
   "source": [
    "\n"
   ]
  },
  {
   "cell_type": "markdown",
   "id": "2ad5e373",
   "metadata": {},
   "source": [
    "Solution"
   ]
  },
  {
   "cell_type": "code",
   "execution_count": null,
   "id": "e66437f0",
   "metadata": {},
   "outputs": [],
   "source": [
    "import sys\n",
    "\n",
    "T = int(sys.stdin.readline())\n",
    "\n",
    "for i in range(T):\n",
    "    testCase = sys.stdin.read().split()\n",
    "    \n",
    "    # Reversed\n",
    "    for j in range(len(testCase)):\n",
    "        testCase[j] = testCase[j][::-1]\n",
    "        \n",
    "    # Print answer\n",
    "    print(\" \".join(testCase))"
   ]
  }
 ],
 "metadata": {
  "kernelspec": {
   "display_name": "Python 3 (ipykernel)",
   "language": "python",
   "name": "python3"
  },
  "language_info": {
   "codemirror_mode": {
    "name": "ipython",
    "version": 3
   },
   "file_extension": ".py",
   "mimetype": "text/x-python",
   "name": "python",
   "nbconvert_exporter": "python",
   "pygments_lexer": "ipython3",
   "version": "3.9.7"
  }
 },
 "nbformat": 4,
 "nbformat_minor": 5
}
