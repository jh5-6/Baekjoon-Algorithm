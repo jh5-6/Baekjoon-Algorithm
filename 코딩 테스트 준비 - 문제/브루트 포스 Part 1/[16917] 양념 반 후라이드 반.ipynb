{
 "cells": [
  {
   "cell_type": "markdown",
   "id": "10f095a5",
   "metadata": {},
   "source": [
    "# [양념 반 후라이드 반]"
   ]
  },
  {
   "cell_type": "markdown",
   "id": "92fa3e66",
   "metadata": {},
   "source": [
    "\n"
   ]
  },
  {
   "cell_type": "markdown",
   "id": "f7bc08a9",
   "metadata": {},
   "source": [
    "현진 치킨에서 판매하는 치킨은 양념 치킨, 후라이드 치킨, 반반 치킨으로 총 세 종류이다. 반반 치킨은 절반은 양념 치킨, 절반은 후라이드 치킨으로 이루어져있다. 양념 치킨 한 마리의 가격은 A원, 후라이드 치킨 한 마리의 가격은 B원, 반반 치킨 한 마리의 가격은 C원이다.\n",
    "\n",
    "상도는 오늘 파티를 위해 양념 치킨 최소 X마리, 후라이드 치킨 최소 Y마리를 구매하려고 한다. 반반 치킨을 두 마리 구입해 양념 치킨 하나와 후라이드 치킨 하나를 만드는 방법도 가능하다. 상도가 치킨을 구매하는 금액의 최솟값을 구해보자."
   ]
  },
  {
   "cell_type": "markdown",
   "id": "6f65a22e",
   "metadata": {},
   "source": [
    "\n"
   ]
  },
  {
   "cell_type": "markdown",
   "id": "56f0a8e0",
   "metadata": {},
   "source": [
    "[입력]\n",
    "\n",
    "첫째 줄에 다섯 정수 A, B, C, X, Y가 주어진다."
   ]
  },
  {
   "cell_type": "markdown",
   "id": "09716744",
   "metadata": {},
   "source": [
    "\n"
   ]
  },
  {
   "cell_type": "markdown",
   "id": "7800b185",
   "metadata": {},
   "source": [
    "[출력]\n",
    "\n",
    "양념 치킨 최소 X마리, 후라이드 치킨 최소 Y마리를 구매하는 비용의 최솟값을 출력한다."
   ]
  },
  {
   "cell_type": "markdown",
   "id": "2c101c7b",
   "metadata": {},
   "source": [
    "\n"
   ]
  },
  {
   "cell_type": "markdown",
   "id": "b87014a4",
   "metadata": {},
   "source": [
    "\n"
   ]
  },
  {
   "cell_type": "markdown",
   "id": "f455489f",
   "metadata": {},
   "source": [
    "[TIP] \n",
    "\n",
    "- X보다 많이 Y보다 많이 구매해도 상관 없다\n"
   ]
  },
  {
   "cell_type": "markdown",
   "id": "911c071f",
   "metadata": {},
   "source": [
    "\n"
   ]
  },
  {
   "cell_type": "markdown",
   "id": "3ed7e8af",
   "metadata": {},
   "source": [
    "\n"
   ]
  },
  {
   "cell_type": "markdown",
   "id": "97f7fb10",
   "metadata": {},
   "source": [
    "Solution "
   ]
  },
  {
   "cell_type": "code",
   "execution_count": 10,
   "id": "ccecf82e",
   "metadata": {},
   "outputs": [
    {
     "name": "stdout",
     "output_type": "stream",
     "text": [
      "1500 2000 500 90000 100000\n",
      "100000000\n"
     ]
    }
   ],
   "source": [
    "A,B,C,X,Y = map(int, input().split(\" \"))\n",
    "answer = 0\n",
    "\n",
    "if A + B > 2 * C:\n",
    "    # 반반 치킨 + 양념 혹은 후라이드\n",
    "    tmp1 = (X - Y) * A if X > Y else (Y - X) * B\n",
    "    tmp1 += min(X, Y) * C * 2\n",
    "    \n",
    "    # 모두 반반 치킨으로 시키는 경우 \n",
    "    tmp2 = max(X, Y) * C * 2\n",
    "    answer = min(tmp1, tmp2)\n",
    "    \n",
    "else:\n",
    "    # 양념 + 후라이드 \n",
    "    answer = A * X +  B * Y\n",
    "\n",
    "print(answer)"
   ]
  }
 ],
 "metadata": {
  "kernelspec": {
   "display_name": "Python 3 (ipykernel)",
   "language": "python",
   "name": "python3"
  },
  "language_info": {
   "codemirror_mode": {
    "name": "ipython",
    "version": 3
   },
   "file_extension": ".py",
   "mimetype": "text/x-python",
   "name": "python",
   "nbconvert_exporter": "python",
   "pygments_lexer": "ipython3",
   "version": "3.9.7"
  }
 },
 "nbformat": 4,
 "nbformat_minor": 5
}
