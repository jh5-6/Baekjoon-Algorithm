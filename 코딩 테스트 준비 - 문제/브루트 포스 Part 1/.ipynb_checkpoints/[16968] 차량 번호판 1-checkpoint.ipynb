{
 "cells": [
  {
   "cell_type": "markdown",
   "id": "9b9b4744",
   "metadata": {},
   "source": [
    "# [차량 번호판 1]"
   ]
  },
  {
   "cell_type": "markdown",
   "id": "c87c466d",
   "metadata": {},
   "source": [
    "\n"
   ]
  },
  {
   "cell_type": "markdown",
   "id": "6d4c1a03",
   "metadata": {},
   "source": [
    "상도시의 차량 번호판 형식이 주어졌을 때, 가능한 차량 번호판의 개수를 구해보자.\n",
    "\n",
    "    - 번호판에 사용할 수 있는 숫자는 0, 1, 2, ..., 8, 9이다.\n",
    "    - 사용할 수 있는 문자는 a, b, c, d, ..., y, z이다.\n",
    "    - 차량 번호판의 형식은 최대 4글자이고, c와 d로 이루어진 문자열로 나타낼 수 있다.\n",
    "    - c는 문자가 위치하는 자리, d는 숫자가 위치하는 자리이다.\n",
    "    - 같은 문자 또는 숫자가 연속해서 2번 나타나면 안 된다.\n",
    "    \n",
    "예를 들어, 형식이 \"cd\"이면, a1, d4, h5, k4 등이 가능하다. 형식이 \"dd\"인 경우에 01, 10, 34, 69는 가능하지만, 00, 11, 55, 66은 같은 숫자가 2번 연속해서 불가능하다."
   ]
  },
  {
   "cell_type": "markdown",
   "id": "b011e1b9",
   "metadata": {},
   "source": [
    "\n"
   ]
  },
  {
   "cell_type": "markdown",
   "id": "b09bc589",
   "metadata": {},
   "source": [
    "[입력]\n",
    "\n",
    "첫째 줄에 차량 번호판의 형식이 주어진다. 형식은 길이가 4보다 작거나 같으며, c와 d로만 이루어져 있다."
   ]
  },
  {
   "cell_type": "markdown",
   "id": "45e89646",
   "metadata": {},
   "source": [
    "\n"
   ]
  },
  {
   "cell_type": "markdown",
   "id": "2e7d6b34",
   "metadata": {},
   "source": [
    "[출력]\n",
    "\n",
    "첫째 줄에 가능한 차량 번호판의 개수를 출력한다."
   ]
  },
  {
   "cell_type": "markdown",
   "id": "df6e0634",
   "metadata": {},
   "source": [
    "\n"
   ]
  },
  {
   "cell_type": "markdown",
   "id": "e6983847",
   "metadata": {},
   "source": [
    "\n"
   ]
  },
  {
   "cell_type": "markdown",
   "id": "75315844",
   "metadata": {},
   "source": [
    "Solution 1 deque 이용한 문제 풀이 "
   ]
  },
  {
   "cell_type": "code",
   "execution_count": 13,
   "id": "65fcc74c",
   "metadata": {},
   "outputs": [],
   "source": [
    "def getCount(form):\n",
    "    \n",
    "    if form == \"d\" :\n",
    "        return 10 \n",
    "    \n",
    "    elif form == \"c\":\n",
    "        return 26"
   ]
  },
  {
   "cell_type": "code",
   "execution_count": 14,
   "id": "677402a5",
   "metadata": {},
   "outputs": [
    {
     "name": "stdout",
     "output_type": "stream",
     "text": [
      "dcdd\n",
      "23400\n"
     ]
    }
   ],
   "source": [
    "from collections import deque\n",
    "\n",
    "form = deque(list(input()))\n",
    "\n",
    "prev = form.popleft()\n",
    "answer = getCount(prev)\n",
    "\n",
    "for f in form:\n",
    "    if f == prev:\n",
    "        answer *= (getCount(f)-1)\n",
    "    else :\n",
    "        answer *= getCount(f)\n",
    "    prev = f\n",
    "        \n",
    "print(answer)"
   ]
  },
  {
   "cell_type": "markdown",
   "id": "e8978096",
   "metadata": {},
   "source": [
    "\n"
   ]
  },
  {
   "cell_type": "markdown",
   "id": "f0634862",
   "metadata": {},
   "source": [
    "\n"
   ]
  },
  {
   "cell_type": "markdown",
   "id": "65079fcd",
   "metadata": {},
   "source": [
    "Solution 2 for문 사용한 문제 풀이 "
   ]
  },
  {
   "cell_type": "code",
   "execution_count": 17,
   "id": "5132bb37",
   "metadata": {},
   "outputs": [
    {
     "name": "stdout",
     "output_type": "stream",
     "text": [
      "dcdd\n",
      "23400\n"
     ]
    }
   ],
   "source": [
    "form = input() \n",
    "answer = 26 if form[0] == \"c\" else 10\n",
    "\n",
    "for i in range(1, len(form)):\n",
    "    num = 26 if form[i] == \"c\" else 10\n",
    "    answer *= (num - (form[i-1] == form[i]))\n",
    "    \n",
    "print(answer)"
   ]
  }
 ],
 "metadata": {
  "kernelspec": {
   "display_name": "Python 3 (ipykernel)",
   "language": "python",
   "name": "python3"
  },
  "language_info": {
   "codemirror_mode": {
    "name": "ipython",
    "version": 3
   },
   "file_extension": ".py",
   "mimetype": "text/x-python",
   "name": "python",
   "nbconvert_exporter": "python",
   "pygments_lexer": "ipython3",
   "version": "3.9.7"
  }
 },
 "nbformat": 4,
 "nbformat_minor": 5
}
